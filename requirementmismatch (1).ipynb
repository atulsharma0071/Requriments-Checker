{
  "nbformat": 4,
  "nbformat_minor": 0,
  "metadata": {
    "colab": {
      "provenance": []
    },
    "kernelspec": {
      "name": "python3",
      "display_name": "Python 3"
    },
    "language_info": {
      "name": "python"
    }
  },
  "cells": [
    {
      "cell_type": "code",
      "execution_count": 4,
      "metadata": {
        "colab": {
          "base_uri": "https://localhost:8080/"
        },
        "id": "1YyUS7nXDPPe",
        "outputId": "1e6a9adf-5af8-4f47-c0d4-676a1d5bf067"
      },
      "outputs": [
        {
          "output_type": "stream",
          "name": "stdout",
          "text": [
            "Repository 'pypi-notifier' already exists. Skipping clone.\n",
            "Found requirements.txt file.\n",
            "Mismatch for Flask: Required 2.3.3, Installed 2.2.5\n",
            "Flask-Caching is not installed.\n",
            "Flask-SQLAlchemy is not installed.\n",
            "GitHub-Flask is not installed.\n",
            "psycopg2-binary is not installed.\n",
            "pystmark is not installed.\n",
            "Mismatch for pytest: Required 7.1.2, Installed 7.4.4\n",
            "raven is not installed.\n",
            "redis is not installed.\n",
            "Mismatch for requests: Required 2.28.1, Installed 2.32.3\n",
            "Mismatch for SQLAlchemy: Required 1.4.40, Installed 2.0.36\n",
            "verlib is not installed.\n",
            "Mismatch for blinker: Required 1.6.2, Installed 1.4\n",
            "zappa is not installed.\n",
            "setuptools is compatible (version 75.1.0).\n",
            "\n",
            "Mismatch report saved to mismatch_report.txt\n"
          ]
        }
      ],
      "source": [
        "import os\n",
        "import subprocess\n",
        "import pkg_resources\n",
        "\n",
        "def clone_repo(github_url):\n",
        "    \"\"\"\n",
        "    Clone the GitHub repository and check if requirements.txt exists.\n",
        "    \"\"\"\n",
        "    repo_name = github_url.split('/')[-1]\n",
        "    if os.path.exists(repo_name):\n",
        "        print(f\"Repository '{repo_name}' already exists. Skipping clone.\")\n",
        "    else:\n",
        "        subprocess.run(['git', 'clone', github_url])\n",
        "        print(f\"Cloned repository '{repo_name}'.\")\n",
        "\n",
        "    req_file_path = os.path.join(repo_name, 'requirements.txt')\n",
        "    if os.path.exists(req_file_path):\n",
        "        print(\"Found requirements.txt file.\")\n",
        "        return req_file_path\n",
        "    else:\n",
        "        print(\"No requirements.txt file found in the repository.\")\n",
        "        return None\n",
        "\n",
        "def check_compatibility(req_file_path, report_file=\"mismatch_report.txt\"):\n",
        "    \"\"\"\n",
        "    Check compatibility of each library in requirements.txt with the installed libraries,\n",
        "    and save mismatches in a report file.\n",
        "    \"\"\"\n",
        "    incompatible_packages = []\n",
        "\n",
        "    # Read the requirements file\n",
        "    with open(req_file_path, 'r') as req_file:\n",
        "        for line in req_file:\n",
        "            if line.strip():\n",
        "                try:\n",
        "                    # Parse the package and version from the line\n",
        "                    req = pkg_resources.Requirement.parse(line.strip())\n",
        "                    pkg_name = req.name\n",
        "                    req_version = req.specs[0][1] if req.specs else None\n",
        "\n",
        "                    # Check if package is installed\n",
        "                    installed_version = pkg_resources.get_distribution(pkg_name).version\n",
        "\n",
        "                    # Compare versions\n",
        "                    if req_version and installed_version != req_version:\n",
        "                        print(f\"Mismatch for {pkg_name}: Required {req_version}, Installed {installed_version}\")\n",
        "                        incompatible_packages.append((pkg_name, req_version, installed_version))\n",
        "                    else:\n",
        "                        print(f\"{pkg_name} is compatible (version {installed_version}).\")\n",
        "                except pkg_resources.DistributionNotFound:\n",
        "                    print(f\"{pkg_name} is not installed.\")\n",
        "                    incompatible_packages.append((pkg_name, req_version, \"Not Installed\"))\n",
        "                except Exception as e:\n",
        "                    print(f\"Error checking {pkg_name}: {e}\")\n",
        "\n",
        "    # Save incompatible packages to a report file\n",
        "    if incompatible_packages:\n",
        "        with open(report_file, 'w') as f:\n",
        "            f.write(\"Incompatible or missing packages:\\n\")\n",
        "            for pkg_name, req_version, installed_version in incompatible_packages:\n",
        "                f.write(f\"{pkg_name}: Required {req_version}, Installed {installed_version}\\n\")\n",
        "        print(f\"\\nMismatch report saved to {report_file}\")\n",
        "    else:\n",
        "        print(\"All packages are compatible.\")\n",
        "\n",
        "# GitHub URL of the repo to clone\n",
        "github_url = \"https://github.com/\"  # Replace with actual repo URL\n",
        "\n",
        "# Clone the repo and check for requirements\n",
        "req_file_path = clone_repo(github_url)\n",
        "if req_file_path:\n",
        "    check_compatibility(req_file_path)\n",
        "else:\n",
        "    print(\"No requirements.txt to verify.\")\n"
      ]
    },
    {
      "cell_type": "code",
      "source": [],
      "metadata": {
        "id": "tkQ0kYrVDyfk"
      },
      "execution_count": null,
      "outputs": []
    }
  ]
}